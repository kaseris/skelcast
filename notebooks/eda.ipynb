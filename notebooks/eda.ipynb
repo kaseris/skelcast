{
 "cells": [
  {
   "cell_type": "markdown",
   "metadata": {},
   "source": [
    "# Let's bring up how many files do we have"
   ]
  },
  {
   "cell_type": "code",
   "execution_count": 2,
   "metadata": {},
   "outputs": [
    {
     "name": "stdout",
     "output_type": "stream",
     "text": [
      "nturgb_d.txt\n",
      "nturgb_d_120.txt\n",
      "Missing skeleton files: 837\n",
      "Found 114480 .skeleton files.\n",
      "Skeleton files after filtering: 114478 files left.\n"
     ]
    }
   ],
   "source": [
    "import os\n",
    "from skelcast.data.prepare_data import get_missing_files, get_skeleton_files, filter_missing\n",
    "\n",
    "DATA_DIR = os.environ['NTU_RGBD_DATA_DIR']\n",
    "MISSING_FILES_DIR = '../data/missing'\n",
    "\n",
    "if not DATA_DIR:\n",
    "    raise ValueError(\"NTU_RGBD_DATA_DIR environment variable is not set or empty.\")\n",
    "\n",
    "missing_skel_files = get_missing_files(MISSING_FILES_DIR)\n",
    "print(f'Missing skeleton files: {len(missing_skel_files)}')\n",
    "skeleton_files = get_skeleton_files(DATA_DIR)\n",
    "\n",
    "print(f\"Found {len(skeleton_files)} .skeleton files.\")\n",
    "\n",
    "skeleton_files_filtered = filter_missing(skeleton_files=skeleton_files,\n",
    "                                         missing_skeleton_names=missing_skel_files)"
   ]
  },
  {
   "cell_type": "code",
   "execution_count": 3,
   "metadata": {},
   "outputs": [
    {
     "data": {
      "text/plain": [
       "(23, 25, 3)"
      ]
     },
     "execution_count": 3,
     "metadata": {},
     "output_type": "execute_result"
    }
   ],
   "source": [
    "import numpy as np\n",
    "\n",
    "from skelcast.data.dataset import read_skeleton_file\n",
    "\n",
    "mat = read_skeleton_file(file_path=skeleton_files_filtered[884])\n",
    "\n",
    "mat.get('skel_body0').shape"
   ]
  },
  {
   "cell_type": "code",
   "execution_count": 5,
   "metadata": {},
   "outputs": [],
   "source": [
    "def should_blacklist(filename):\n",
    "    with open(filename, 'r') as file:\n",
    "        try:\n",
    "            # Read the first line to get the number of following lines\n",
    "            num_lines = int(file.readline().strip())\n",
    "            \n",
    "            # Read the next 'num_lines' lines\n",
    "            lines = [file.readline().strip() for _ in range(num_lines)]\n",
    "            \n",
    "            # Check if all the lines are '0' and the count matches num_lines\n",
    "            if all(line == '0' for line in lines) and len(lines) == num_lines:\n",
    "                return True\n",
    "            else:\n",
    "                return False\n",
    "        \n",
    "        except ValueError:\n",
    "            # Handle the case where the first line is not a number\n",
    "            print(f\"Error: The file {filename} does not start with a number.\")\n",
    "            return False\n",
    "        except Exception as e:\n",
    "            # Handle other possible exceptions such as file not found, etc.\n",
    "            print(f\"An error occurred: {e}\")\n",
    "            return False\n",
    "        \n",
    "blacklisted_files = []\n",
    "for fname in skeleton_files:\n",
    "    if should_blacklist(fname):\n",
    "        print(f'Found file that needs to be blacklisted: {fname}')\n",
    "        blacklisted_files.append(fname)\n"
   ]
  },
  {
   "cell_type": "code",
   "execution_count": 8,
   "metadata": {},
   "outputs": [],
   "source": [
    "skeleton_filenames = {os.path.splitext(os.path.basename(f))[0] for f in skeleton_files}\n",
    "\n",
    "# Now check which files from missing_skel_files are in the skeleton_filenames set\n",
    "contained_files = [f for f in missing_skel_files if f in skeleton_filenames]"
   ]
  },
  {
   "cell_type": "code",
   "execution_count": 18,
   "metadata": {},
   "outputs": [],
   "source": [
    "with open(skeleton_files[0], 'r') as f:\n",
    "    data = f.read()"
   ]
  },
  {
   "cell_type": "code",
   "execution_count": 21,
   "metadata": {},
   "outputs": [],
   "source": [
    "with open('../data/skeletons/sample.txt', 'w') as f:\n",
    "    f.write(data)"
   ]
  }
 ],
 "metadata": {
  "kernelspec": {
   "display_name": "Python 3",
   "language": "python",
   "name": "python3"
  },
  "language_info": {
   "codemirror_mode": {
    "name": "ipython",
    "version": 3
   },
   "file_extension": ".py",
   "mimetype": "text/x-python",
   "name": "python",
   "nbconvert_exporter": "python",
   "pygments_lexer": "ipython3",
   "version": "3.10.13"
  },
  "orig_nbformat": 4
 },
 "nbformat": 4,
 "nbformat_minor": 2
}
