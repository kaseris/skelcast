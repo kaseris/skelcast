{
 "cells": [
  {
   "cell_type": "markdown",
   "metadata": {},
   "source": [
    "# Let's bring up how many files do we have"
   ]
  },
  {
   "cell_type": "code",
   "execution_count": 1,
   "metadata": {},
   "outputs": [
    {
     "name": "stdout",
     "output_type": "stream",
     "text": [
      "nturgb_d.txt\n",
      "nturgb_d_120.txt\n",
      "Missing skeleton files: 837\n",
      "Found 114480 .skeleton files.\n",
      "Skeleton files after filtering: 114478 files left.\n"
     ]
    }
   ],
   "source": [
    "import os\n",
    "from skelcast.data.prepare_data import get_missing_files, get_skeleton_files, filter_missing\n",
    "\n",
    "DATA_DIR = os.environ['NTU_RGBD_DATA_DIR']\n",
    "MISSING_FILES_DIR = '../data/missing'\n",
    "\n",
    "if not DATA_DIR:\n",
    "    raise ValueError(\"NTU_RGBD_DATA_DIR environment variable is not set or empty.\")\n",
    "\n",
    "missing_skel_files = get_missing_files(MISSING_FILES_DIR)\n",
    "print(f'Missing skeleton files: {len(missing_skel_files)}')\n",
    "skeleton_files = get_skeleton_files(DATA_DIR)\n",
    "\n",
    "print(f\"Found {len(skeleton_files)} .skeleton files.\")\n",
    "\n",
    "skeleton_files_filtered = filter_missing(skeleton_files=skeleton_files,\n",
    "                                         missing_skeleton_names=missing_skel_files)"
   ]
  },
  {
   "cell_type": "code",
   "execution_count": 12,
   "metadata": {},
   "outputs": [
    {
     "data": {
      "text/plain": [
       "(23, 25, 3)"
      ]
     },
     "execution_count": 12,
     "metadata": {},
     "output_type": "execute_result"
    }
   ],
   "source": [
    "import numpy as np\n",
    "\n",
    "from skelcast.data.dataset import read_skeleton_file\n",
    "\n",
    "mat = read_skeleton_file(file_path=skeleton_files_filtered[884])\n",
    "\n",
    "mat.get('skel_body0').shape"
   ]
  },
  {
   "cell_type": "code",
   "execution_count": 13,
   "metadata": {},
   "outputs": [
    {
     "ename": "ValueError",
     "evalue": "max() arg is an empty sequence",
     "output_type": "error",
     "traceback": [
      "\u001b[0;31m---------------------------------------------------------------------------\u001b[0m",
      "\u001b[0;31mValueError\u001b[0m                                Traceback (most recent call last)",
      "Cell \u001b[0;32mIn[13], line 3\u001b[0m\n\u001b[1;32m      1\u001b[0m durations \u001b[39m=\u001b[39m []\n\u001b[1;32m      2\u001b[0m \u001b[39mfor\u001b[39;00m skel_file \u001b[39min\u001b[39;00m skeleton_files_filtered:\n\u001b[0;32m----> 3\u001b[0m     mat \u001b[39m=\u001b[39m read_skeleton_file(skel_file)\n\u001b[1;32m      4\u001b[0m     joints \u001b[39m=\u001b[39m mat\u001b[39m.\u001b[39mget(\u001b[39m'\u001b[39m\u001b[39mskel_body0\u001b[39m\u001b[39m'\u001b[39m)\n\u001b[1;32m      5\u001b[0m     duration \u001b[39m=\u001b[39m joints\u001b[39m.\u001b[39mshape[\u001b[39m0\u001b[39m]\n",
      "File \u001b[0;32m~/Documents/dev/skelcast/src/skelcast/data/dataset.py:65\u001b[0m, in \u001b[0;36mread_skeleton_file\u001b[0;34m(file_path, save_skelxyz, save_rgbxy, save_depthxy)\u001b[0m\n\u001b[1;32m     63\u001b[0m \u001b[39m# prune the abundant bodys\u001b[39;00m\n\u001b[1;32m     64\u001b[0m \u001b[39mfor\u001b[39;00m each \u001b[39min\u001b[39;00m \u001b[39mrange\u001b[39m(max_body):\n\u001b[0;32m---> 65\u001b[0m     \u001b[39mif\u001b[39;00m each \u001b[39m>\u001b[39m\u001b[39m=\u001b[39m \u001b[39mmax\u001b[39;49m(bodymat[\u001b[39m\"\u001b[39;49m\u001b[39mnbodys\u001b[39;49m\u001b[39m\"\u001b[39;49m]):\n\u001b[1;32m     66\u001b[0m         \u001b[39mif\u001b[39;00m save_skelxyz:\n\u001b[1;32m     67\u001b[0m             \u001b[39mdel\u001b[39;00m bodymat[\u001b[39m\"\u001b[39m\u001b[39mskel_body\u001b[39m\u001b[39m{}\u001b[39;00m\u001b[39m\"\u001b[39m\u001b[39m.\u001b[39mformat(each)]\n",
      "\u001b[0;31mValueError\u001b[0m: max() arg is an empty sequence"
     ]
    }
   ],
   "source": [
    "durations = []\n",
    "for skel_file in skeleton_files_filtered:\n",
    "    mat = read_skeleton_file(skel_file)\n",
    "    joints = mat.get('skel_body0')\n",
    "    duration = joints.shape[0]\n",
    "    durations.append(duration)"
   ]
  },
  {
   "cell_type": "code",
   "execution_count": null,
   "metadata": {},
   "outputs": [],
   "source": []
  }
 ],
 "metadata": {
  "kernelspec": {
   "display_name": "Python 3",
   "language": "python",
   "name": "python3"
  },
  "language_info": {
   "codemirror_mode": {
    "name": "ipython",
    "version": 3
   },
   "file_extension": ".py",
   "mimetype": "text/x-python",
   "name": "python",
   "nbconvert_exporter": "python",
   "pygments_lexer": "ipython3",
   "version": "3.10.13"
  },
  "orig_nbformat": 4
 },
 "nbformat": 4,
 "nbformat_minor": 2
}
