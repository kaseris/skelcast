{
 "cells": [
  {
   "cell_type": "markdown",
   "metadata": {},
   "source": [
    "# Let's bring up how many files do we have"
   ]
  },
  {
   "cell_type": "code",
   "execution_count": 1,
   "metadata": {},
   "outputs": [
    {
     "name": "stdout",
     "output_type": "stream",
     "text": [
      "nturgb_d.txt\n",
      "nturgb_d_120.txt\n",
      "Missing skeleton files: 837\n",
      "Found 114480 .skeleton files.\n",
      "Skeleton files after filtering: 114478 files left.\n",
      "Skeleton Files size after removing blacklisted files: 114122\n"
     ]
    }
   ],
   "source": [
    "import os\n",
    "from skelcast.data.prepare_data import get_missing_files, get_skeleton_files, filter_missing, should_blacklist\n",
    "\n",
    "DATA_DIR = os.environ['NTU_RGBD_DATA_DIR']\n",
    "MISSING_FILES_DIR = '../data/missing'\n",
    "\n",
    "if not DATA_DIR:\n",
    "    raise ValueError(\"NTU_RGBD_DATA_DIR environment variable is not set or empty.\")\n",
    "\n",
    "missing_skel_files = get_missing_files(MISSING_FILES_DIR)\n",
    "print(f'Missing skeleton files: {len(missing_skel_files)}')\n",
    "skeleton_files = get_skeleton_files(DATA_DIR)\n",
    "\n",
    "print(f\"Found {len(skeleton_files)} .skeleton files.\")\n",
    "\n",
    "skeleton_files_filtered = filter_missing(skeleton_files=skeleton_files,\n",
    "                                         missing_skeleton_names=missing_skel_files)\n",
    "\n",
    "skeleton_files_clean = []\n",
    "for fname in skeleton_files_filtered:\n",
    "    if should_blacklist(fname):\n",
    "        continue\n",
    "    else:\n",
    "        skeleton_files_clean.append(fname)\n",
    "\n",
    "print(f'Skeleton Files size after removing blacklisted files: {len(skeleton_files_clean)}')"
   ]
  },
  {
   "cell_type": "code",
   "execution_count": null,
   "metadata": {},
   "outputs": [],
   "source": []
  }
 ],
 "metadata": {
  "kernelspec": {
   "display_name": "Python 3",
   "language": "python",
   "name": "python3"
  },
  "language_info": {
   "codemirror_mode": {
    "name": "ipython",
    "version": 3
   },
   "file_extension": ".py",
   "mimetype": "text/x-python",
   "name": "python",
   "nbconvert_exporter": "python",
   "pygments_lexer": "ipython3",
   "version": "3.10.13"
  },
  "orig_nbformat": 4
 },
 "nbformat": 4,
 "nbformat_minor": 2
}
